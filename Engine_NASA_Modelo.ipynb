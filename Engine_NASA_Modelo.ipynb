{
 "cells": [
  {
   "cell_type": "markdown",
   "metadata": {},
   "source": [
    "# Versão 1.1\n",
    "\n",
    "Nessa versão utilizei K-means para os 6 clusteres, dados normalizados somente por feature e NÃO utilizei o filtro Kalman.\n",
    "\n",
    "Coluna 'cycle_num' dos dados forma normalizados ( value / dataset.['cycle_num'].max() ) e depois multiplicando pelo valor novamente ao avaliar na métrica da competição. (melhora de 8%)\n",
    "\n",
    "Outra modificação foi a inclusão desta coluna no treinamento do modelo. O resultado foi absurdamente melhorado. (imensurável a melhora no modelo)"
   ]
  },
  {
   "cell_type": "code",
   "execution_count": 1,
   "metadata": {},
   "outputs": [
    {
     "name": "stderr",
     "output_type": "stream",
     "text": [
      "c:\\programdata\\anaconda2\\lib\\site-packages\\sklearn\\cross_validation.py:44: DeprecationWarning: This module was deprecated in version 0.18 in favor of the model_selection module into which all the refactored classes and functions are moved. Also note that the interface of the new CV iterators are different from that of this module. This module will be removed in 0.20.\n",
      "  \"This module will be removed in 0.20.\", DeprecationWarning)\n",
      "c:\\programdata\\anaconda2\\lib\\site-packages\\sklearn\\grid_search.py:43: DeprecationWarning: This module was deprecated in version 0.18 in favor of the model_selection module into which all the refactored classes and functions are moved. This module will be removed in 0.20.\n",
      "  DeprecationWarning)\n"
     ]
    }
   ],
   "source": [
    "#Importando as bibliotecas\n",
    "\n",
    "# Data Analysis Tools\n",
    "import pandas as pd\n",
    "import numpy as np\n",
    "from time import time\n",
    "import logging as log\n",
    "\n",
    "# Visualization Tools\n",
    "import matplotlib.pyplot as plt\n",
    "%matplotlib inline\n",
    "import seaborn as sns\n",
    "from mpl_toolkits.mplot3d import Axes3D\n",
    "from IPython.display import display\n",
    "\n",
    "# Machine Learning Tools\n",
    "import sklearn\n",
    "import sklearn.mixture as mix\n",
    "from sklearn.preprocessing import scale\n",
    "from sklearn.cluster import KMeans\n",
    "from sklearn import preprocessing\n",
    "import xgboost as xgb\n",
    "from sklearn import cross_validation\n",
    "from sklearn.model_selection import train_test_split\n",
    "from sklearn.datasets import make_classification\n",
    "from sklearn.ensemble import ExtraTreesClassifier\n",
    "from sklearn.model_selection import cross_val_predict\n",
    "from sklearn import linear_model\n",
    "from sklearn.grid_search import GridSearchCV\n",
    "from sklearn.cross_validation import ShuffleSplit\n",
    "import pickle\n",
    "\n",
    "\n",
    "#Scoreing tools\n",
    "from sklearn.metrics import silhouette_score, pairwise_distances\n",
    "from sklearn.metrics import r2_score\n",
    "from sklearn.metrics import explained_variance_score\n",
    "from sklearn.metrics import mean_squared_error\n",
    "from sklearn.metrics import make_scorer\n",
    "# from sklearn.metrics import mean_squared_log_error\n",
    "\n",
    "# plt.rcParams['figure.figsize'] = (10, 10)\n",
    "\n",
    "def get_sensor_names(tag_names):\n",
    "    \"\"\" Get tagnames starting with sensor.\n",
    "    \n",
    "    :param tag_names: Input time series data frame\n",
    "    \n",
    "    :return list of string tag names starting with sensor.\n",
    "    \"\"\"\n",
    "    \n",
    "    return [tag_name for tag_name in tag_names if tag_name.startswith('sensor')]"
   ]
  },
  {
   "cell_type": "code",
   "execution_count": 14,
   "metadata": {},
   "outputs": [
    {
     "name": "stdout",
     "output_type": "stream",
     "text": [
      "Os dados dos sensores e settings:\n",
      "O dataset de treino tem 45918 linhas de dados e 20 atributos.\n",
      "O dataset de teste tem 29820 linhas de dados e 20 atributos.\n",
      "O dataset de testes finais tem 55156 linhas de dados e 20 atributos.\n",
      "\n",
      "\n",
      "Os dados dos sensores e settings:\n",
      "O dataset de treino tem 45918 linhas de dados e 1 atributos.\n",
      "O dataset de teste tem 29820 linhas de dados e 1 atributos.\n",
      "O dataset de testes finais tem 55156 linhas de dados e 1 atributos.\n"
     ]
    }
   ],
   "source": [
    "#Import dos dados\n",
    "\n",
    "#Dataset de treino\n",
    "train_final_data = pd.read_csv('train_final_data.csv', sep=',')\n",
    "target_final_data_train_scaled = pd.read_csv('target_final_data_train_scaled.csv', sep=',', names = ['cycle_num'],header = None)\n",
    "\n",
    "#Dataset de teste\n",
    "test_final_data = pd.read_csv('test_final_data.csv', sep=',')\n",
    "target_final_data_test_scaled = pd.read_csv('target_final_data_test_scaled.csv', sep=',', names = ['cycle_num'],header = None)\n",
    "\n",
    "#Dataset de teste final\n",
    "finaltest_final_data = pd.read_csv('finaltest_final_data.csv', sep=',')\n",
    "target_final_data_finaltest_scaled = pd.read_csv('target_final_data_finaltest_scaled.csv', sep=',', names = ['cycle_num'],header = None)\n",
    "\n",
    "print \"Os dados dos sensores e settings:\"\n",
    "print \"O dataset de treino tem {} linhas de dados e {} atributos.\".format(*train_final_data.shape)\n",
    "print \"O dataset de teste tem {} linhas de dados e {} atributos.\".format(*test_final_data.shape)\n",
    "print \"O dataset de testes finais tem {} linhas de dados e {} atributos.\".format(*finaltest_final_data.shape)\n",
    "\n",
    "print \"\\n\"\n",
    "\n",
    "print \"Os dados dos sensores e settings:\"\n",
    "print \"O dataset de treino tem {} linhas de dados e {} atributos.\".format(*target_final_data_train_scaled.shape)\n",
    "print \"O dataset de teste tem {} linhas de dados e {} atributos.\".format(*target_final_data_test_scaled.shape)\n",
    "print \"O dataset de testes finais tem {} linhas de dados e {} atributos.\".format(*target_final_data_finaltest_scaled.shape)\n"
   ]
  },
  {
   "cell_type": "code",
   "execution_count": 24,
   "metadata": {},
   "outputs": [],
   "source": [
    "train_final_data = train_final_data.drop(train_final_data.columns[[0]], axis = 1)\n",
    "test_final_data = train_final_data.drop(train_final_data.columns[[0]], axis = 1)\n",
    "finaltest_final_data = finaltest_final_data.drop(finaltest_final_data.columns[[0]] ,axis = 1)"
   ]
  },
  {
   "cell_type": "code",
   "execution_count": 27,
   "metadata": {},
   "outputs": [
    {
     "data": {
      "text/html": [
       "<div>\n",
       "<style>\n",
       "    .dataframe thead tr:only-child th {\n",
       "        text-align: right;\n",
       "    }\n",
       "\n",
       "    .dataframe thead th {\n",
       "        text-align: left;\n",
       "    }\n",
       "\n",
       "    .dataframe tbody tr th {\n",
       "        vertical-align: top;\n",
       "    }\n",
       "</style>\n",
       "<table border=\"1\" class=\"dataframe\">\n",
       "  <thead>\n",
       "    <tr style=\"text-align: right;\">\n",
       "      <th></th>\n",
       "      <th>overall setting</th>\n",
       "      <th>sensor2</th>\n",
       "      <th>sensor3</th>\n",
       "      <th>sensor4</th>\n",
       "      <th>sensor6</th>\n",
       "      <th>sensor7</th>\n",
       "      <th>sensor8</th>\n",
       "      <th>sensor9</th>\n",
       "      <th>sensor10</th>\n",
       "      <th>sensor11</th>\n",
       "      <th>sensor12</th>\n",
       "      <th>sensor13</th>\n",
       "      <th>sensor14</th>\n",
       "      <th>sensor15</th>\n",
       "      <th>sensor16</th>\n",
       "      <th>sensor17</th>\n",
       "      <th>sensor20</th>\n",
       "      <th>sensor9,14_break</th>\n",
       "    </tr>\n",
       "  </thead>\n",
       "  <tbody>\n",
       "    <tr>\n",
       "      <th>0</th>\n",
       "      <td>0</td>\n",
       "      <td>0.530201</td>\n",
       "      <td>0.351019</td>\n",
       "      <td>0.551776</td>\n",
       "      <td>0.0</td>\n",
       "      <td>0.396739</td>\n",
       "      <td>0.138889</td>\n",
       "      <td>0.151036</td>\n",
       "      <td>0.0</td>\n",
       "      <td>0.291339</td>\n",
       "      <td>0.616949</td>\n",
       "      <td>0.148148</td>\n",
       "      <td>0.186259</td>\n",
       "      <td>0.544818</td>\n",
       "      <td>0.0</td>\n",
       "      <td>0.444444</td>\n",
       "      <td>0.369565</td>\n",
       "      <td>0</td>\n",
       "    </tr>\n",
       "    <tr>\n",
       "      <th>1</th>\n",
       "      <td>0</td>\n",
       "      <td>0.459732</td>\n",
       "      <td>0.164401</td>\n",
       "      <td>0.457852</td>\n",
       "      <td>1.0</td>\n",
       "      <td>0.519022</td>\n",
       "      <td>0.111111</td>\n",
       "      <td>0.134116</td>\n",
       "      <td>0.0</td>\n",
       "      <td>0.354331</td>\n",
       "      <td>0.467797</td>\n",
       "      <td>0.157407</td>\n",
       "      <td>0.131014</td>\n",
       "      <td>0.571429</td>\n",
       "      <td>0.0</td>\n",
       "      <td>0.444444</td>\n",
       "      <td>0.586957</td>\n",
       "      <td>0</td>\n",
       "    </tr>\n",
       "    <tr>\n",
       "      <th>2</th>\n",
       "      <td>0</td>\n",
       "      <td>0.419463</td>\n",
       "      <td>0.352588</td>\n",
       "      <td>0.389602</td>\n",
       "      <td>1.0</td>\n",
       "      <td>0.703804</td>\n",
       "      <td>0.111111</td>\n",
       "      <td>0.132873</td>\n",
       "      <td>1.0</td>\n",
       "      <td>0.377953</td>\n",
       "      <td>0.352542</td>\n",
       "      <td>0.129630</td>\n",
       "      <td>0.211785</td>\n",
       "      <td>0.371148</td>\n",
       "      <td>0.0</td>\n",
       "      <td>0.333333</td>\n",
       "      <td>0.489130</td>\n",
       "      <td>0</td>\n",
       "    </tr>\n",
       "    <tr>\n",
       "      <th>3</th>\n",
       "      <td>0</td>\n",
       "      <td>0.587248</td>\n",
       "      <td>0.484579</td>\n",
       "      <td>0.235344</td>\n",
       "      <td>0.0</td>\n",
       "      <td>0.663043</td>\n",
       "      <td>0.129630</td>\n",
       "      <td>0.149448</td>\n",
       "      <td>1.0</td>\n",
       "      <td>0.370079</td>\n",
       "      <td>0.467797</td>\n",
       "      <td>0.129630</td>\n",
       "      <td>0.174342</td>\n",
       "      <td>0.299253</td>\n",
       "      <td>0.0</td>\n",
       "      <td>0.444444</td>\n",
       "      <td>0.413043</td>\n",
       "      <td>0</td>\n",
       "    </tr>\n",
       "    <tr>\n",
       "      <th>4</th>\n",
       "      <td>0</td>\n",
       "      <td>0.506711</td>\n",
       "      <td>0.525614</td>\n",
       "      <td>0.487805</td>\n",
       "      <td>0.0</td>\n",
       "      <td>0.551630</td>\n",
       "      <td>0.148148</td>\n",
       "      <td>0.185221</td>\n",
       "      <td>1.0</td>\n",
       "      <td>0.275591</td>\n",
       "      <td>0.406780</td>\n",
       "      <td>0.138889</td>\n",
       "      <td>0.159335</td>\n",
       "      <td>0.571895</td>\n",
       "      <td>0.0</td>\n",
       "      <td>0.444444</td>\n",
       "      <td>0.695652</td>\n",
       "      <td>0</td>\n",
       "    </tr>\n",
       "  </tbody>\n",
       "</table>\n",
       "</div>"
      ],
      "text/plain": [
       "   overall setting   sensor2   sensor3   sensor4  sensor6   sensor7   sensor8  \\\n",
       "0                0  0.530201  0.351019  0.551776      0.0  0.396739  0.138889   \n",
       "1                0  0.459732  0.164401  0.457852      1.0  0.519022  0.111111   \n",
       "2                0  0.419463  0.352588  0.389602      1.0  0.703804  0.111111   \n",
       "3                0  0.587248  0.484579  0.235344      0.0  0.663043  0.129630   \n",
       "4                0  0.506711  0.525614  0.487805      0.0  0.551630  0.148148   \n",
       "\n",
       "    sensor9  sensor10  sensor11  sensor12  sensor13  sensor14  sensor15  \\\n",
       "0  0.151036       0.0  0.291339  0.616949  0.148148  0.186259  0.544818   \n",
       "1  0.134116       0.0  0.354331  0.467797  0.157407  0.131014  0.571429   \n",
       "2  0.132873       1.0  0.377953  0.352542  0.129630  0.211785  0.371148   \n",
       "3  0.149448       1.0  0.370079  0.467797  0.129630  0.174342  0.299253   \n",
       "4  0.185221       1.0  0.275591  0.406780  0.138889  0.159335  0.571895   \n",
       "\n",
       "   sensor16  sensor17  sensor20  sensor9,14_break  \n",
       "0       0.0  0.444444  0.369565                 0  \n",
       "1       0.0  0.444444  0.586957                 0  \n",
       "2       0.0  0.333333  0.489130                 0  \n",
       "3       0.0  0.444444  0.413043                 0  \n",
       "4       0.0  0.444444  0.695652                 0  "
      ]
     },
     "execution_count": 27,
     "metadata": {},
     "output_type": "execute_result"
    }
   ],
   "source": [
    "finaltest_final_data.head()"
   ]
  },
  {
   "cell_type": "markdown",
   "metadata": {},
   "source": [
    "# Modelos de regressão"
   ]
  },
  {
   "cell_type": "code",
   "execution_count": null,
   "metadata": {
    "collapsed": true
   },
   "outputs": [],
   "source": [
    "# #ATENÇÃO------------->>>>>>>>>>> \"Teste com o cross_val_predict para verificar os dados? Entender o que essa função realiza\"\n",
    "# from xgboost import XGBRegressor as xgb\n",
    "# lr = linear_model.LinearRegression()\n",
    "# # lr = xgb(n_estimators=100, learning_rate=0.08, gamma=0, subsample=0.75,colsample_bytree=1, max_depth=7)\n",
    "# boston = train_final_data\n",
    "# y = target_final_data\n",
    "\n",
    "# # cross_val_predict returns an array of the same size as `y` where each entry\n",
    "# # is a prediction obtained by cross validation:\n",
    "# predicted = cross_val_predict(lr, train_final_data, target_final_data, cv=100)\n",
    "\n",
    "# fig, ax = plt.subplots(figsize=(10,10))\n",
    "# plt.title(lr.__class__.__name__,fontsize=30)\n",
    "# ax.scatter(y, predicted, c=('b', 'k'))\n",
    "# ax.plot([y.min(), y.max()], [y.min(), y.max()], 'r--', lw=4)\n",
    "# ax.set_xlabel('Measured',fontsize=25)\n",
    "# ax.set_ylabel('Predicted',fontsize=25)\n",
    "# ax.tick_params(labelsize=20)\n",
    "# plt.savefig(lr.__class__.__name__+'_Modelo.png', format='png', dpi=100)\n",
    "# plt.show()"
   ]
  },
  {
   "cell_type": "code",
   "execution_count": 28,
   "metadata": {
    "collapsed": true
   },
   "outputs": [],
   "source": [
    "#Funções para regressão dos dados:\n",
    "def train_classifier(clf, X_train, y_train):\n",
    "    ''' Ajusta um classificador para os dados de treinamento. '''\n",
    "     \n",
    "    clf.fit(X_train, y_train)\n",
    "    print \"O modelo foi treinado!\"\n",
    "    return \n",
    "\n",
    "def predict_labels_train(clf, X, y):\n",
    "    ''' Faz uma estimativa utilizando um modelo de regressão ajustado em algum score ainda a ser definido. '''\n",
    "       \n",
    "    y_pred = clf.predict(X)\n",
    "    \n",
    "    \n",
    "    # Imprime os resultados de retorno\n",
    "    print (\"Pronto!\\n As previsões de treino para o modelo {} foram feitas!\".format(clf.__class__.__name__))\n",
    "    return  {\"R2 score\": r2_score(y.values, y_pred), \n",
    "             \"Explained Variance Score\": explained_variance_score(y.values, y_pred),\n",
    "             \"Mean Squared Error\": mean_squared_error(y.values, y_pred)\n",
    "            }\n",
    "\n",
    "def predict_labels_test(clf, X, y):\n",
    "    ''' Faz uma estimativa utilizando um modelo de regressão ajustado em algum score ainda a ser definido. '''\n",
    "       \n",
    "    y_pred = clf.predict(X)\n",
    "\n",
    "    \n",
    "    \n",
    "    \n",
    "    # Imprime os resultados de retorno\n",
    "    print (\"Pronto!\\n As previsões de teste para o modelo {} foram feitas!\\n\".format(clf.__class__.__name__))\n",
    "    return  {\"R2 score\": r2_score(y.values, y_pred), \n",
    "             \"Explained Variance Score\": explained_variance_score(y.values, y_pred),\n",
    "             \"Mean Squared Error\": mean_squared_error(y.values, y_pred)\n",
    "                          }\n",
    "\n",
    "# def metrica(d,a1,a2)\n",
    "\n",
    "#     for i, x in enumerate(d):\n",
    "#         if (x < 0):\n",
    "#             np.exp(-(d/a1))\n",
    "#         else:\n",
    "#             np.exp(d/a2)"
   ]
  },
  {
   "cell_type": "code",
   "execution_count": 30,
   "metadata": {
    "collapsed": true
   },
   "outputs": [
    {
     "name": "stdout",
     "output_type": "stream",
     "text": [
      "Próximo modelo...\n",
      "\n",
      "O modelo foi treinado!\n",
      "Pronto!\n",
      " As previsões de treino para o modelo DecisionTreeRegressor foram feitas!\n",
      "Pronto!\n",
      " As previsões de teste para o modelo DecisionTreeRegressor foram feitas!\n",
      "\n",
      "Próximo modelo...\n",
      "\n"
     ]
    },
    {
     "name": "stderr",
     "output_type": "stream",
     "text": [
      "c:\\programdata\\anaconda2\\lib\\site-packages\\sklearn\\utils\\validation.py:526: DataConversionWarning: A column-vector y was passed when a 1d array was expected. Please change the shape of y to (n_samples, ), for example using ravel().\n",
      "  y = column_or_1d(y, warn=True)\n"
     ]
    },
    {
     "name": "stdout",
     "output_type": "stream",
     "text": [
      "O modelo foi treinado!\n",
      "Pronto!\n",
      " As previsões de treino para o modelo SVR foram feitas!\n",
      "Pronto!\n",
      " As previsões de teste para o modelo SVR foram feitas!\n",
      "\n",
      "Próximo modelo...\n",
      "\n",
      "O modelo foi treinado!\n",
      "Pronto!\n",
      " As previsões de treino para o modelo KNeighborsRegressor foram feitas!\n",
      "Pronto!\n",
      " As previsões de teste para o modelo KNeighborsRegressor foram feitas!\n",
      "\n",
      "Próximo modelo...\n",
      "\n",
      "O modelo foi treinado!\n",
      "Pronto!\n",
      " As previsões de treino para o modelo LinearRegression foram feitas!\n",
      "Pronto!\n",
      " As previsões de teste para o modelo LinearRegression foram feitas!\n",
      "\n",
      "Próximo modelo...\n",
      "\n",
      "O modelo foi treinado!\n",
      "Pronto!\n",
      " As previsões de treino para o modelo XGBRegressor foram feitas!\n",
      "Pronto!\n",
      " As previsões de teste para o modelo XGBRegressor foram feitas!\n",
      "\n"
     ]
    },
    {
     "data": {
      "text/html": [
       "<div>\n",
       "<style>\n",
       "    .dataframe thead tr:only-child th {\n",
       "        text-align: right;\n",
       "    }\n",
       "\n",
       "    .dataframe thead th {\n",
       "        text-align: left;\n",
       "    }\n",
       "\n",
       "    .dataframe tbody tr th {\n",
       "        vertical-align: top;\n",
       "    }\n",
       "</style>\n",
       "<table border=\"1\" class=\"dataframe\">\n",
       "  <thead>\n",
       "    <tr style=\"text-align: right;\">\n",
       "      <th></th>\n",
       "      <th>Modelo utilizado</th>\n",
       "      <th>Pontuação R2 (treinamento)</th>\n",
       "      <th>Explained Variance Score (treinamento)</th>\n",
       "      <th>Mean Squared Error (treinamento)</th>\n",
       "      <th>Pontuação R2 (teste)</th>\n",
       "      <th>Explained Variance Score (teste)</th>\n",
       "      <th>Mean Squared Error (teste)</th>\n",
       "      <th>Conjunto de Treino</th>\n",
       "      <th>Conjunto de Teste</th>\n",
       "    </tr>\n",
       "  </thead>\n",
       "  <tbody>\n",
       "    <tr>\n",
       "      <th>0</th>\n",
       "      <td>DecisionTreeRegressor</td>\n",
       "      <td>1.000000</td>\n",
       "      <td>1.000000</td>\n",
       "      <td>5.681713e-36</td>\n",
       "      <td>0.522690</td>\n",
       "      <td>0.522699</td>\n",
       "      <td>0.017325</td>\n",
       "      <td>(32142, 16)</td>\n",
       "      <td>(13776, 16)</td>\n",
       "    </tr>\n",
       "    <tr>\n",
       "      <th>1</th>\n",
       "      <td>SVR</td>\n",
       "      <td>0.697948</td>\n",
       "      <td>0.715020</td>\n",
       "      <td>1.115072e-02</td>\n",
       "      <td>0.696669</td>\n",
       "      <td>0.712332</td>\n",
       "      <td>0.011010</td>\n",
       "      <td>(32142, 16)</td>\n",
       "      <td>(13776, 16)</td>\n",
       "    </tr>\n",
       "    <tr>\n",
       "      <th>2</th>\n",
       "      <td>KNeighborsRegressor</td>\n",
       "      <td>0.884238</td>\n",
       "      <td>0.884257</td>\n",
       "      <td>4.273524e-03</td>\n",
       "      <td>0.653379</td>\n",
       "      <td>0.653457</td>\n",
       "      <td>0.012581</td>\n",
       "      <td>(32142, 16)</td>\n",
       "      <td>(13776, 16)</td>\n",
       "    </tr>\n",
       "    <tr>\n",
       "      <th>3</th>\n",
       "      <td>LinearRegression</td>\n",
       "      <td>0.758471</td>\n",
       "      <td>0.758471</td>\n",
       "      <td>8.916399e-03</td>\n",
       "      <td>0.758395</td>\n",
       "      <td>0.758434</td>\n",
       "      <td>0.008769</td>\n",
       "      <td>(32142, 16)</td>\n",
       "      <td>(13776, 16)</td>\n",
       "    </tr>\n",
       "    <tr>\n",
       "      <th>4</th>\n",
       "      <td>XGBRegressor</td>\n",
       "      <td>0.824397</td>\n",
       "      <td>0.824397</td>\n",
       "      <td>6.482667e-03</td>\n",
       "      <td>0.770987</td>\n",
       "      <td>0.771015</td>\n",
       "      <td>0.008312</td>\n",
       "      <td>(32142, 16)</td>\n",
       "      <td>(13776, 16)</td>\n",
       "    </tr>\n",
       "  </tbody>\n",
       "</table>\n",
       "</div>"
      ],
      "text/plain": [
       "        Modelo utilizado  Pontuação R2 (treinamento)  \\\n",
       "0  DecisionTreeRegressor                    1.000000   \n",
       "1                    SVR                    0.697948   \n",
       "2    KNeighborsRegressor                    0.884238   \n",
       "3       LinearRegression                    0.758471   \n",
       "4           XGBRegressor                    0.824397   \n",
       "\n",
       "   Explained Variance Score (treinamento)  Mean Squared Error (treinamento)  \\\n",
       "0                                1.000000                      5.681713e-36   \n",
       "1                                0.715020                      1.115072e-02   \n",
       "2                                0.884257                      4.273524e-03   \n",
       "3                                0.758471                      8.916399e-03   \n",
       "4                                0.824397                      6.482667e-03   \n",
       "\n",
       "   Pontuação R2 (teste)  Explained Variance Score (teste)  \\\n",
       "0              0.522690                          0.522699   \n",
       "1              0.696669                          0.712332   \n",
       "2              0.653379                          0.653457   \n",
       "3              0.758395                          0.758434   \n",
       "4              0.770987                          0.771015   \n",
       "\n",
       "   Mean Squared Error (teste) Conjunto de Treino Conjunto de Teste  \n",
       "0                    0.017325        (32142, 16)       (13776, 16)  \n",
       "1                    0.011010        (32142, 16)       (13776, 16)  \n",
       "2                    0.012581        (32142, 16)       (13776, 16)  \n",
       "3                    0.008769        (32142, 16)       (13776, 16)  \n",
       "4                    0.008312        (32142, 16)       (13776, 16)  "
      ]
     },
     "execution_count": 30,
     "metadata": {},
     "output_type": "execute_result"
    }
   ],
   "source": [
    "# Neste passo irei realizar os modelos de regressão e mostrar os resultados\n",
    "\n",
    "from sklearn.tree import DecisionTreeRegressor\n",
    "from sklearn.neighbors import KNeighborsRegressor\n",
    "from sklearn.svm import SVR\n",
    "from sklearn import linear_model\n",
    "from xgboost import XGBRegressor as xgb\n",
    "\n",
    "Regression = [DecisionTreeRegressor(),SVR(C=1.0, epsilon=0.2) ,KNeighborsRegressor(n_neighbors=2,algorithm = 'auto'),linear_model.LinearRegression(),\n",
    "              xgb(n_estimators=100, learning_rate=0.08, gamma=0, subsample=0.75,colsample_bytree=1, max_depth=7) \n",
    "             ]\n",
    "\n",
    "resultados = { \n",
    "        'Modelo utilizado': [],\n",
    "        'Conjunto de Treino': [], \n",
    "        'Conjunto de Teste': [],\n",
    "        'Pontuação R2 (treinamento)': [], \n",
    "        'Pontuação R2 (teste)': [],\n",
    "        'Explained Variance Score (treinamento)':[],\n",
    "        'Explained Variance Score (teste)':[],\n",
    "        'Mean Squared Error (treinamento)':[],\n",
    "        'Mean Squared Error (teste)':[]\n",
    "            }\n",
    "\n",
    "################################DADOS PASSADOS NO MODELO###########################################################\n",
    "# ##Treino\n",
    "# #Coluna targe do dataset\n",
    "# target_final_data_train = train_final_data['cycle_num']\n",
    "# #Colunas com os dados\n",
    "# train_final_data = train_final_data.drop(['cycle_num'], axis = 1)\n",
    "\n",
    "##################################################################################################################\n",
    "\n",
    "Dados_normalizados = [train_test_split(train_final_data, target_final_data_train_scaled, train_size=0.7 , random_state = 1)]\n",
    "\n",
    "for clf in Regression:\n",
    "    for split in Dados_normalizados:\n",
    "        \n",
    "        print (\"Próximo modelo...\\n\")\n",
    "        X_train, X_test, y_train, y_test = split\n",
    "        \n",
    "        time_train = train_classifier(clf, X_train, y_train)\n",
    "        \n",
    "        time_predict_train = predict_labels_train(clf, X_train, y_train)\n",
    "        \n",
    "        time_predict_test = predict_labels_test(clf, X_test, y_test)\n",
    "        \n",
    "        resultados['Modelo utilizado'].append(clf.__class__.__name__)\n",
    "        resultados['Conjunto de Treino'].append(X_train.shape)\n",
    "        resultados['Conjunto de Teste'].append(X_test.shape)\n",
    "        resultados['Pontuação R2 (treinamento)'].append(time_predict_train[\"R2 score\"])\n",
    "        resultados['Pontuação R2 (teste)'].append(time_predict_test[\"R2 score\"])\n",
    "        resultados['Explained Variance Score (treinamento)'].append(time_predict_train[\"Explained Variance Score\"])\n",
    "        resultados['Explained Variance Score (teste)'].append(time_predict_test[\"Explained Variance Score\"])\n",
    "        resultados['Mean Squared Error (treinamento)'].append(time_predict_train[\"Mean Squared Error\"])\n",
    "        resultados['Mean Squared Error (teste)'].append(time_predict_test[\"Mean Squared Error\"])\n",
    "                \n",
    "                \n",
    "Results = pd.DataFrame(resultados)\n",
    "Results = Results[['Modelo utilizado','Pontuação R2 (treinamento)','Explained Variance Score (treinamento)','Mean Squared Error (treinamento)',\n",
    "                  'Pontuação R2 (teste)','Explained Variance Score (teste)','Mean Squared Error (teste)','Conjunto de Treino','Conjunto de Teste']]\n",
    "Results.head()\n"
   ]
  },
  {
   "cell_type": "markdown",
   "metadata": {},
   "source": [
    "# Modelo escolhido"
   ]
  },
  {
   "cell_type": "markdown",
   "metadata": {},
   "source": [
    "# XGBOOST"
   ]
  },
  {
   "cell_type": "markdown",
   "metadata": {},
   "source": [
    "Utilizando o XGboost para uma primeira rodada de previsão"
   ]
  },
  {
   "cell_type": "code",
   "execution_count": 31,
   "metadata": {
    "collapsed": true
   },
   "outputs": [
    {
     "name": "stdout",
     "output_type": "stream",
     "text": [
      "Próximo modelo...\n",
      "\n",
      "O modelo foi treinado!\n",
      "Pronto!\n",
      " As previsões de treino para o modelo XGBRegressor foram feitas!\n",
      "Pronto!\n",
      " As previsões de teste para o modelo XGBRegressor foram feitas!\n",
      "\n"
     ]
    },
    {
     "data": {
      "text/html": [
       "<div>\n",
       "<style>\n",
       "    .dataframe thead tr:only-child th {\n",
       "        text-align: right;\n",
       "    }\n",
       "\n",
       "    .dataframe thead th {\n",
       "        text-align: left;\n",
       "    }\n",
       "\n",
       "    .dataframe tbody tr th {\n",
       "        vertical-align: top;\n",
       "    }\n",
       "</style>\n",
       "<table border=\"1\" class=\"dataframe\">\n",
       "  <thead>\n",
       "    <tr style=\"text-align: right;\">\n",
       "      <th></th>\n",
       "      <th>Modelo utilizado</th>\n",
       "      <th>Pontuação R2 (treinamento)</th>\n",
       "      <th>Explained Variance Score (treinamento)</th>\n",
       "      <th>Mean Squared Error (treinamento)</th>\n",
       "      <th>Pontuação R2 (teste)</th>\n",
       "      <th>Explained Variance Score (teste)</th>\n",
       "      <th>Mean Squared Error (teste)</th>\n",
       "      <th>Conjunto de Treino</th>\n",
       "      <th>Conjunto de Teste</th>\n",
       "    </tr>\n",
       "  </thead>\n",
       "  <tbody>\n",
       "    <tr>\n",
       "      <th>0</th>\n",
       "      <td>XGBRegressor</td>\n",
       "      <td>0.824397</td>\n",
       "      <td>0.824397</td>\n",
       "      <td>0.006483</td>\n",
       "      <td>0.770987</td>\n",
       "      <td>0.771015</td>\n",
       "      <td>0.008312</td>\n",
       "      <td>(32142, 16)</td>\n",
       "      <td>(13776, 16)</td>\n",
       "    </tr>\n",
       "  </tbody>\n",
       "</table>\n",
       "</div>"
      ],
      "text/plain": [
       "  Modelo utilizado  Pontuação R2 (treinamento)  \\\n",
       "0     XGBRegressor                    0.824397   \n",
       "\n",
       "   Explained Variance Score (treinamento)  Mean Squared Error (treinamento)  \\\n",
       "0                                0.824397                          0.006483   \n",
       "\n",
       "   Pontuação R2 (teste)  Explained Variance Score (teste)  \\\n",
       "0              0.770987                          0.771015   \n",
       "\n",
       "   Mean Squared Error (teste) Conjunto de Treino Conjunto de Teste  \n",
       "0                    0.008312        (32142, 16)       (13776, 16)  "
      ]
     },
     "execution_count": 31,
     "metadata": {},
     "output_type": "execute_result"
    }
   ],
   "source": [
    "# Neste passo irei realizar os modelos de regressão e mostrar os resultados\n",
    "\n",
    "from xgboost import XGBRegressor as xgb\n",
    "\n",
    "Regression = [xgb(n_estimators=100, learning_rate=0.08, gamma=0, subsample=0.75,colsample_bytree=1, max_depth=7)]\n",
    "\n",
    "resultados = { \n",
    "        'Modelo utilizado': [],\n",
    "        'Conjunto de Treino': [], \n",
    "        'Conjunto de Teste': [],\n",
    "        'Pontuação R2 (treinamento)': [], \n",
    "        'Pontuação R2 (teste)': [],\n",
    "        'Explained Variance Score (treinamento)':[],\n",
    "        'Explained Variance Score (teste)':[],\n",
    "        'Mean Squared Error (treinamento)':[],\n",
    "        'Mean Squared Error (teste)':[]        \n",
    "            }\n",
    "\n",
    "################################DADOS PASSADOS NO MODELO###########################################################\n",
    "# ##Treino\n",
    "# #Coluna targe do dataset\n",
    "# target_final_data_train = train_final_data['cycle_num']\n",
    "# #Colunas com os dados\n",
    "# train_final_data = train_final_data.drop(['cycle_num'], axis = 1)\n",
    "\n",
    "\n",
    "\n",
    "##################################################################################################################\n",
    "\n",
    "Dados_normalizados = [train_test_split(train_final_data, target_final_data_train_scaled, train_size=0.7 , random_state = 1)]\n",
    "\n",
    "for clf in Regression:\n",
    "    for split in Dados_normalizados:\n",
    "        \n",
    "        print (\"Próximo modelo...\\n\")\n",
    "        X_train, X_test, y_train, y_test = split\n",
    "        \n",
    "        time_train = train_classifier(clf, X_train, y_train)\n",
    "        \n",
    "        time_predict_train = predict_labels_train(clf, X_train, y_train)\n",
    "        \n",
    "        time_predict_test = predict_labels_test(clf, X_test, y_test)\n",
    "        \n",
    "        resultados['Modelo utilizado'].append(clf.__class__.__name__)\n",
    "        resultados['Conjunto de Treino'].append(X_train.shape)\n",
    "        resultados['Conjunto de Teste'].append(X_test.shape)\n",
    "        resultados['Pontuação R2 (treinamento)'].append(time_predict_train[\"R2 score\"])\n",
    "        resultados['Pontuação R2 (teste)'].append(time_predict_test[\"R2 score\"])\n",
    "        resultados['Explained Variance Score (treinamento)'].append(time_predict_train[\"Explained Variance Score\"])\n",
    "        resultados['Explained Variance Score (teste)'].append(time_predict_test[\"Explained Variance Score\"])\n",
    "        resultados['Mean Squared Error (treinamento)'].append(time_predict_train[\"Mean Squared Error\"])\n",
    "        resultados['Mean Squared Error (teste)'].append(time_predict_test[\"Mean Squared Error\"])\n",
    "        \n",
    "\n",
    "                  \n",
    "Results_xgboost = pd.DataFrame(resultados)\n",
    "Results_xgboost = Results_xgboost[['Modelo utilizado','Pontuação R2 (treinamento)','Explained Variance Score (treinamento)','Mean Squared Error (treinamento)',\n",
    "                  'Pontuação R2 (teste)','Explained Variance Score (teste)','Mean Squared Error (teste)','Conjunto de Treino','Conjunto de Teste']]\n",
    "Results_xgboost.head()\n"
   ]
  },
  {
   "cell_type": "markdown",
   "metadata": {},
   "source": [
    "# Ajustando o modelo do Xgboost"
   ]
  },
  {
   "cell_type": "code",
   "execution_count": 32,
   "metadata": {
    "collapsed": true
   },
   "outputs": [],
   "source": [
    "def performance_metric(y_true, y_predict):\n",
    "    \"\"\" Calcular e retornar a pontuação de desempenho entre \n",
    "        valores reais e estimados baseado na métrica escolhida. \"\"\"\n",
    "    # TODO: Calcular a pontuação de desempenho entre 'y_true' e 'y_predict'\n",
    "    score = r2_score(y_true, y_predict)\n",
    "#     explainedvariancescore =  explained_variance_score(y_true, y_predict)\n",
    "#     meansquarederror = mean_squared_error(y_true, y_predict)\n",
    "          \n",
    "    \n",
    "    # Devolver a pontuação\n",
    "    return score"
   ]
  },
  {
   "cell_type": "code",
   "execution_count": 33,
   "metadata": {
    "collapsed": true
   },
   "outputs": [
    {
     "name": "stdout",
     "output_type": "stream",
     "text": [
      "Tudo ok até então!\n"
     ]
    }
   ],
   "source": [
    "def fit_model(X, y):\n",
    "\n",
    "    from xgboost import XGBRegressor as xgb\n",
    "    cv_sets = ShuffleSplit(X.shape[0], n_iter = 10, test_size = 0.2, random_state = 1)\n",
    "#     cv_sets = train_test_split(X, y, train_size=0.7 , random_state = 1)\n",
    "    estimator = xgb()\n",
    "   \n",
    "    # TODO: Gerar um dicionário para o parâmetro 'max_depth' com um alcance de 1 a 10\n",
    "    Params = {'n_estimators':[100,150,200], \n",
    "          'learning_rate':[0.05,0.07,0.4],\n",
    "          'colsample_bytree':[0.5,0.7,1],\n",
    "          'max_depth':[5,7,10]\n",
    "         }\n",
    "\n",
    "    # TODO: Transformar 'performance_metric' em uma função de pontuação utilizando 'make_scorer' \n",
    "    scoring_fnc = make_scorer(performance_metric)\n",
    "    \n",
    "\n",
    "    # TODO: Gerar o objeto de busca em matriz\n",
    "    grid = GridSearchCV( estimator=estimator, param_grid=Params, scoring=scoring_fnc, cv=cv_sets)\n",
    "    #grid = GridSearchCV( estimator=regressor, param_grid=params, scoring=scoring_fnc, cv=cv_sets2)\n",
    "\n",
    "    # Ajustar o objeto de busca em matriz com os dados para calcular o modelo ótimo\n",
    "    grid = grid.fit(X, y)\n",
    "   \n",
    "\n",
    "    # Devolver o modelo ótimo depois de realizar o ajuste dos dados\n",
    "    return grid.best_estimator_\n",
    "\n",
    "print ('Tudo ok até então!')"
   ]
  },
  {
   "cell_type": "code",
   "execution_count": null,
   "metadata": {
    "collapsed": true
   },
   "outputs": [],
   "source": [
    "reg = fit_model(train_final_data, target_final_data_train_scaled)"
   ]
  },
  {
   "cell_type": "code",
   "execution_count": null,
   "metadata": {
    "collapsed": true
   },
   "outputs": [],
   "source": [
    "# Produzir valores para 'max_depth'\n",
    "print \"O parâmetro 'n_estimators' é {} para o modelo ótimo.\".format(reg.get_params()['n_estimators'])\n",
    "print \"O parâmetro 'learning_rate' é {} para o modelo ótimo.\".format(reg.get_params()['learning_rate'])\n",
    "print \"O parâmetro 'colsample_bytree' é {} para o modelo ótimo.\".format(reg.get_params()['colsample_bytree'])\n",
    "print \"O parâmetro 'max_depth' é {} para o modelo ótimo.\".format(reg.get_params()['max_depth'])"
   ]
  },
  {
   "cell_type": "code",
   "execution_count": null,
   "metadata": {},
   "outputs": [],
   "source": []
  },
  {
   "cell_type": "markdown",
   "metadata": {},
   "source": [
    "# Modelo Final XGBOOST"
   ]
  },
  {
   "cell_type": "code",
   "execution_count": 63,
   "metadata": {},
   "outputs": [],
   "source": [
    "#Dados Finais\n",
    "\n",
    "X_train, X_test, y_train, y_test = train_test_split(train_final_data, target_final_data_train_scaled, train_size=0.7 , random_state = 1)"
   ]
  },
  {
   "cell_type": "code",
   "execution_count": 64,
   "metadata": {},
   "outputs": [
    {
     "name": "stdout",
     "output_type": "stream",
     "text": [
      "Próximo modelo...\n",
      "\n",
      "O modelo foi treinado!\n",
      "Pronto!\n",
      " As previsões de treino para o modelo XGBRegressor foram feitas!\n",
      "Pronto!\n",
      " As previsões de teste para o modelo XGBRegressor foram feitas!\n",
      "\n"
     ]
    },
    {
     "data": {
      "text/html": [
       "<div>\n",
       "<style>\n",
       "    .dataframe thead tr:only-child th {\n",
       "        text-align: right;\n",
       "    }\n",
       "\n",
       "    .dataframe thead th {\n",
       "        text-align: left;\n",
       "    }\n",
       "\n",
       "    .dataframe tbody tr th {\n",
       "        vertical-align: top;\n",
       "    }\n",
       "</style>\n",
       "<table border=\"1\" class=\"dataframe\">\n",
       "  <thead>\n",
       "    <tr style=\"text-align: right;\">\n",
       "      <th></th>\n",
       "      <th>Modelo utilizado</th>\n",
       "      <th>Pontuação R2 (treinamento)</th>\n",
       "      <th>Explained Variance Score (treinamento)</th>\n",
       "      <th>Mean Squared Error (treinamento)</th>\n",
       "      <th>Pontuação R2 (teste)</th>\n",
       "      <th>Explained Variance Score (teste)</th>\n",
       "      <th>Mean Squared Error (teste)</th>\n",
       "      <th>Conjunto de Treino</th>\n",
       "      <th>Conjunto de Teste</th>\n",
       "    </tr>\n",
       "  </thead>\n",
       "  <tbody>\n",
       "    <tr>\n",
       "      <th>0</th>\n",
       "      <td>XGBRegressor</td>\n",
       "      <td>0.886144</td>\n",
       "      <td>0.886144</td>\n",
       "      <td>0.004203</td>\n",
       "      <td>0.837313</td>\n",
       "      <td>0.837331</td>\n",
       "      <td>0.005905</td>\n",
       "      <td>(32142, 19)</td>\n",
       "      <td>(13776, 19)</td>\n",
       "    </tr>\n",
       "  </tbody>\n",
       "</table>\n",
       "</div>"
      ],
      "text/plain": [
       "  Modelo utilizado  Pontuação R2 (treinamento)  \\\n",
       "0     XGBRegressor                    0.886144   \n",
       "\n",
       "   Explained Variance Score (treinamento)  Mean Squared Error (treinamento)  \\\n",
       "0                                0.886144                          0.004203   \n",
       "\n",
       "   Pontuação R2 (teste)  Explained Variance Score (teste)  \\\n",
       "0              0.837313                          0.837331   \n",
       "\n",
       "   Mean Squared Error (teste) Conjunto de Treino Conjunto de Teste  \n",
       "0                    0.005905        (32142, 19)       (13776, 19)  "
      ]
     },
     "execution_count": 64,
     "metadata": {},
     "output_type": "execute_result"
    }
   ],
   "source": [
    "from xgboost import XGBRegressor as xgb\n",
    "\n",
    "Regression = [xgb(n_estimators=200, learning_rate=0.05, gamma=0, subsample=0.75,colsample_bytree=1, \n",
    "                  max_depth=7)]\n",
    "\n",
    "resultados = { \n",
    "        'Modelo utilizado': [],\n",
    "        'Conjunto de Treino': [], \n",
    "        'Conjunto de Teste': [],\n",
    "        'Pontuação R2 (treinamento)': [], \n",
    "        'Pontuação R2 (teste)': [],\n",
    "        'Explained Variance Score (treinamento)':[],\n",
    "        'Explained Variance Score (teste)':[],\n",
    "        'Mean Squared Error (treinamento)':[],\n",
    "        'Mean Squared Error (teste)':[]\n",
    "            }\n",
    "\n",
    "Dados_normalizados = [train_test_split(train_final_data, target_final_data_train_scaled, train_size=0.7 , random_state = 1)]\n",
    "\n",
    "for clf in Regression:\n",
    "    for split in Dados_normalizados:\n",
    "        \n",
    "        print (\"Próximo modelo...\\n\")\n",
    "        X_train, X_test, y_train, y_test = split\n",
    "        \n",
    "        time_train = train_classifier(clf, X_train, y_train)\n",
    "        \n",
    "        time_predict_train = predict_labels_train(clf, X_train, y_train)\n",
    "        \n",
    "        time_predict_test = predict_labels_test(clf, X_test, y_test)\n",
    "        \n",
    "        resultados['Modelo utilizado'].append(clf.__class__.__name__)\n",
    "        resultados['Conjunto de Treino'].append(X_train.shape)\n",
    "        resultados['Conjunto de Teste'].append(X_test.shape)\n",
    "        resultados['Pontuação R2 (treinamento)'].append(time_predict_train[\"R2 score\"])\n",
    "        resultados['Pontuação R2 (teste)'].append(time_predict_test[\"R2 score\"])\n",
    "        resultados['Explained Variance Score (treinamento)'].append(time_predict_train[\"Explained Variance Score\"])\n",
    "        resultados['Explained Variance Score (teste)'].append(time_predict_test[\"Explained Variance Score\"])\n",
    "        resultados['Mean Squared Error (treinamento)'].append(time_predict_train[\"Mean Squared Error\"])\n",
    "        resultados['Mean Squared Error (teste)'].append(time_predict_test[\"Mean Squared Error\"])\n",
    "\n",
    "                  \n",
    "Results_xgboost = pd.DataFrame(resultados)\n",
    "Results_xgboost = Results_xgboost[['Modelo utilizado','Pontuação R2 (treinamento)','Explained Variance Score (treinamento)','Mean Squared Error (treinamento)',\n",
    "                  'Pontuação R2 (teste)','Explained Variance Score (teste)','Mean Squared Error (teste)','Conjunto de Treino','Conjunto de Teste']]\n",
    "Results_xgboost.head()"
   ]
  },
  {
   "cell_type": "code",
   "execution_count": 65,
   "metadata": {},
   "outputs": [],
   "source": [
    "# Params = (n_estimators = 200, \n",
    "#          learning_rate = 0.4,\n",
    "#          colsample_bytree = 0.7,\n",
    "#          max_depth = 5)\n",
    "from xgboost import XGBRegressor as xgb        \n",
    "\n",
    "model = xgb(n_estimators = 200,learning_rate = 0.4,colsample_bytree = 0.7,max_depth = 5)\n",
    "\n",
    "model.fit(X_train, y_train)\n",
    "y_pred = model.predict(X_test)\n",
    "\n",
    "X_test_df = pd.DataFrame(X_test)\n",
    "y_pred_final = pd.DataFrame(y_pred * target_final_data_train.max() , columns = ['y_pred'], index = X_test_df.index)\n",
    "\n",
    "#Saving the model\n",
    "filename = 'finalized_model.sav'\n",
    "pickle.dump(model, open(filename, 'wb'))"
   ]
  },
  {
   "cell_type": "code",
   "execution_count": 66,
   "metadata": {},
   "outputs": [
    {
     "data": {
      "text/plain": [
       "(13776, 1)"
      ]
     },
     "execution_count": 66,
     "metadata": {},
     "output_type": "execute_result"
    }
   ],
   "source": [
    "y_pred_final.shape"
   ]
  },
  {
   "cell_type": "code",
   "execution_count": 67,
   "metadata": {},
   "outputs": [
    {
     "data": {
      "text/plain": [
       "(13776, 19)"
      ]
     },
     "execution_count": 67,
     "metadata": {},
     "output_type": "execute_result"
    }
   ],
   "source": [
    "X_test_df.shape"
   ]
  },
  {
   "cell_type": "code",
   "execution_count": 68,
   "metadata": {},
   "outputs": [
    {
     "data": {
      "text/html": [
       "<div>\n",
       "<style>\n",
       "    .dataframe thead tr:only-child th {\n",
       "        text-align: right;\n",
       "    }\n",
       "\n",
       "    .dataframe thead th {\n",
       "        text-align: left;\n",
       "    }\n",
       "\n",
       "    .dataframe tbody tr th {\n",
       "        vertical-align: top;\n",
       "    }\n",
       "</style>\n",
       "<table border=\"1\" class=\"dataframe\">\n",
       "  <thead>\n",
       "    <tr style=\"text-align: right;\">\n",
       "      <th></th>\n",
       "      <th>unit</th>\n",
       "      <th>overall setting</th>\n",
       "      <th>sensor2</th>\n",
       "      <th>sensor3</th>\n",
       "      <th>sensor4</th>\n",
       "      <th>sensor6</th>\n",
       "      <th>sensor7</th>\n",
       "      <th>sensor8</th>\n",
       "      <th>sensor9</th>\n",
       "      <th>sensor10</th>\n",
       "      <th>sensor11</th>\n",
       "      <th>sensor12</th>\n",
       "      <th>sensor13</th>\n",
       "      <th>sensor14</th>\n",
       "      <th>sensor15</th>\n",
       "      <th>sensor16</th>\n",
       "      <th>sensor17</th>\n",
       "      <th>sensor20</th>\n",
       "      <th>sensor9,14_break</th>\n",
       "    </tr>\n",
       "  </thead>\n",
       "  <tbody>\n",
       "    <tr>\n",
       "      <th>38929</th>\n",
       "      <td>185</td>\n",
       "      <td>1</td>\n",
       "      <td>0.510836</td>\n",
       "      <td>0.619269</td>\n",
       "      <td>0.285486</td>\n",
       "      <td>1.0</td>\n",
       "      <td>0.543662</td>\n",
       "      <td>0.276190</td>\n",
       "      <td>0.173858</td>\n",
       "      <td>0.0</td>\n",
       "      <td>0.400000</td>\n",
       "      <td>0.492593</td>\n",
       "      <td>0.279762</td>\n",
       "      <td>0.237667</td>\n",
       "      <td>0.465002</td>\n",
       "      <td>0.0</td>\n",
       "      <td>0.500000</td>\n",
       "      <td>0.223684</td>\n",
       "      <td>0</td>\n",
       "    </tr>\n",
       "    <tr>\n",
       "      <th>7359</th>\n",
       "      <td>35</td>\n",
       "      <td>1</td>\n",
       "      <td>0.359133</td>\n",
       "      <td>0.317896</td>\n",
       "      <td>0.473086</td>\n",
       "      <td>0.0</td>\n",
       "      <td>0.766197</td>\n",
       "      <td>0.247619</td>\n",
       "      <td>0.209830</td>\n",
       "      <td>0.0</td>\n",
       "      <td>0.446667</td>\n",
       "      <td>0.392593</td>\n",
       "      <td>0.258929</td>\n",
       "      <td>0.184961</td>\n",
       "      <td>0.525539</td>\n",
       "      <td>0.0</td>\n",
       "      <td>0.300000</td>\n",
       "      <td>0.407895</td>\n",
       "      <td>0</td>\n",
       "    </tr>\n",
       "    <tr>\n",
       "      <th>1607</th>\n",
       "      <td>8</td>\n",
       "      <td>3</td>\n",
       "      <td>0.259146</td>\n",
       "      <td>0.452178</td>\n",
       "      <td>0.209569</td>\n",
       "      <td>0.0</td>\n",
       "      <td>0.535627</td>\n",
       "      <td>0.339286</td>\n",
       "      <td>0.221120</td>\n",
       "      <td>0.0</td>\n",
       "      <td>0.355263</td>\n",
       "      <td>0.614493</td>\n",
       "      <td>0.327586</td>\n",
       "      <td>0.243961</td>\n",
       "      <td>0.346185</td>\n",
       "      <td>0.0</td>\n",
       "      <td>0.400000</td>\n",
       "      <td>0.701031</td>\n",
       "      <td>1</td>\n",
       "    </tr>\n",
       "    <tr>\n",
       "      <th>32915</th>\n",
       "      <td>156</td>\n",
       "      <td>4</td>\n",
       "      <td>0.428105</td>\n",
       "      <td>0.458142</td>\n",
       "      <td>0.596941</td>\n",
       "      <td>0.0</td>\n",
       "      <td>0.532164</td>\n",
       "      <td>0.214984</td>\n",
       "      <td>0.136119</td>\n",
       "      <td>0.0</td>\n",
       "      <td>0.157534</td>\n",
       "      <td>0.583333</td>\n",
       "      <td>0.210366</td>\n",
       "      <td>0.196389</td>\n",
       "      <td>0.206791</td>\n",
       "      <td>0.0</td>\n",
       "      <td>0.333333</td>\n",
       "      <td>0.500000</td>\n",
       "      <td>0</td>\n",
       "    </tr>\n",
       "    <tr>\n",
       "      <th>34640</th>\n",
       "      <td>165</td>\n",
       "      <td>2</td>\n",
       "      <td>0.578778</td>\n",
       "      <td>0.680204</td>\n",
       "      <td>0.679761</td>\n",
       "      <td>1.0</td>\n",
       "      <td>0.339789</td>\n",
       "      <td>0.636364</td>\n",
       "      <td>0.284511</td>\n",
       "      <td>0.0</td>\n",
       "      <td>0.875862</td>\n",
       "      <td>0.373068</td>\n",
       "      <td>0.733333</td>\n",
       "      <td>0.224325</td>\n",
       "      <td>0.763688</td>\n",
       "      <td>0.0</td>\n",
       "      <td>0.600000</td>\n",
       "      <td>0.301724</td>\n",
       "      <td>1</td>\n",
       "    </tr>\n",
       "  </tbody>\n",
       "</table>\n",
       "</div>"
      ],
      "text/plain": [
       "       unit  overall setting   sensor2   sensor3   sensor4  sensor6   sensor7  \\\n",
       "38929   185                1  0.510836  0.619269  0.285486      1.0  0.543662   \n",
       "7359     35                1  0.359133  0.317896  0.473086      0.0  0.766197   \n",
       "1607      8                3  0.259146  0.452178  0.209569      0.0  0.535627   \n",
       "32915   156                4  0.428105  0.458142  0.596941      0.0  0.532164   \n",
       "34640   165                2  0.578778  0.680204  0.679761      1.0  0.339789   \n",
       "\n",
       "        sensor8   sensor9  sensor10  sensor11  sensor12  sensor13  sensor14  \\\n",
       "38929  0.276190  0.173858       0.0  0.400000  0.492593  0.279762  0.237667   \n",
       "7359   0.247619  0.209830       0.0  0.446667  0.392593  0.258929  0.184961   \n",
       "1607   0.339286  0.221120       0.0  0.355263  0.614493  0.327586  0.243961   \n",
       "32915  0.214984  0.136119       0.0  0.157534  0.583333  0.210366  0.196389   \n",
       "34640  0.636364  0.284511       0.0  0.875862  0.373068  0.733333  0.224325   \n",
       "\n",
       "       sensor15  sensor16  sensor17  sensor20  sensor9,14_break  \n",
       "38929  0.465002       0.0  0.500000  0.223684                 0  \n",
       "7359   0.525539       0.0  0.300000  0.407895                 0  \n",
       "1607   0.346185       0.0  0.400000  0.701031                 1  \n",
       "32915  0.206791       0.0  0.333333  0.500000                 0  \n",
       "34640  0.763688       0.0  0.600000  0.301724                 1  "
      ]
     },
     "execution_count": 68,
     "metadata": {},
     "output_type": "execute_result"
    }
   ],
   "source": [
    "X_test_df.head()"
   ]
  },
  {
   "cell_type": "code",
   "execution_count": 69,
   "metadata": {},
   "outputs": [
    {
     "data": {
      "text/html": [
       "<div>\n",
       "<style>\n",
       "    .dataframe thead tr:only-child th {\n",
       "        text-align: right;\n",
       "    }\n",
       "\n",
       "    .dataframe thead th {\n",
       "        text-align: left;\n",
       "    }\n",
       "\n",
       "    .dataframe tbody tr th {\n",
       "        vertical-align: top;\n",
       "    }\n",
       "</style>\n",
       "<table border=\"1\" class=\"dataframe\">\n",
       "  <thead>\n",
       "    <tr style=\"text-align: right;\">\n",
       "      <th></th>\n",
       "      <th>y_pred</th>\n",
       "    </tr>\n",
       "  </thead>\n",
       "  <tbody>\n",
       "    <tr>\n",
       "      <th>38929</th>\n",
       "      <td>93.749550</td>\n",
       "    </tr>\n",
       "    <tr>\n",
       "      <th>7359</th>\n",
       "      <td>91.311562</td>\n",
       "    </tr>\n",
       "    <tr>\n",
       "      <th>1607</th>\n",
       "      <td>177.480881</td>\n",
       "    </tr>\n",
       "    <tr>\n",
       "      <th>32915</th>\n",
       "      <td>67.271011</td>\n",
       "    </tr>\n",
       "    <tr>\n",
       "      <th>34640</th>\n",
       "      <td>160.227692</td>\n",
       "    </tr>\n",
       "  </tbody>\n",
       "</table>\n",
       "</div>"
      ],
      "text/plain": [
       "           y_pred\n",
       "38929   93.749550\n",
       "7359    91.311562\n",
       "1607   177.480881\n",
       "32915   67.271011\n",
       "34640  160.227692"
      ]
     },
     "execution_count": 69,
     "metadata": {},
     "output_type": "execute_result"
    }
   ],
   "source": [
    "y_pred_final.head()"
   ]
  },
  {
   "cell_type": "code",
   "execution_count": 3,
   "metadata": {},
   "outputs": [
    {
     "ename": "NameError",
     "evalue": "name 'y_pred_final' is not defined",
     "output_type": "error",
     "traceback": [
      "\u001b[1;31m---------------------------------------------------------------------------\u001b[0m",
      "\u001b[1;31mNameError\u001b[0m                                 Traceback (most recent call last)",
      "\u001b[1;32m<ipython-input-3-9318cd6f206f>\u001b[0m in \u001b[0;36m<module>\u001b[1;34m()\u001b[0m\n\u001b[1;32m----> 1\u001b[1;33m \u001b[0mdata_colunas\u001b[0m \u001b[1;33m=\u001b[0m \u001b[1;33m[\u001b[0m\u001b[0my_pred_final\u001b[0m\u001b[1;33m,\u001b[0m\u001b[0mtarget_final_data_train\u001b[0m\u001b[1;33m,\u001b[0m\u001b[0mX_test_df\u001b[0m\u001b[1;33m]\u001b[0m\u001b[1;33m\u001b[0m\u001b[0m\n\u001b[0m\u001b[0;32m      2\u001b[0m \u001b[1;31m# target_final_data_train\u001b[0m\u001b[1;33m\u001b[0m\u001b[1;33m\u001b[0m\u001b[0m\n\u001b[0;32m      3\u001b[0m \u001b[1;33m\u001b[0m\u001b[0m\n\u001b[0;32m      4\u001b[0m \u001b[0mengine_train\u001b[0m \u001b[1;33m=\u001b[0m \u001b[0mpd\u001b[0m\u001b[1;33m.\u001b[0m\u001b[0mconcat\u001b[0m\u001b[1;33m(\u001b[0m\u001b[0mdata_colunas\u001b[0m\u001b[1;33m,\u001b[0m \u001b[0maxis\u001b[0m \u001b[1;33m=\u001b[0m \u001b[1;36m1\u001b[0m\u001b[1;33m,\u001b[0m \u001b[0mignore_index\u001b[0m\u001b[1;33m=\u001b[0m\u001b[0mFalse\u001b[0m\u001b[1;33m,\u001b[0m\u001b[0mverify_integrity\u001b[0m\u001b[1;33m=\u001b[0m\u001b[0mTrue\u001b[0m\u001b[1;33m)\u001b[0m\u001b[1;33m\u001b[0m\u001b[0m\n\u001b[0;32m      5\u001b[0m \u001b[1;33m\u001b[0m\u001b[0m\n",
      "\u001b[1;31mNameError\u001b[0m: name 'y_pred_final' is not defined"
     ]
    }
   ],
   "source": [
    "data_colunas = [y_pred_final,target_final_data_train,X_test_df]\n",
    "# target_final_data_train\n",
    "\n",
    "engine_train = pd.concat(data_colunas, axis = 1, ignore_index=False,verify_integrity=True)\n",
    "\n",
    "engine_train = engine_train.dropna(axis = 0, how = 'any')\n",
    "\n",
    "engine_train.tail()"
   ]
  },
  {
   "cell_type": "code",
   "execution_count": 2,
   "metadata": {},
   "outputs": [
    {
     "ename": "NameError",
     "evalue": "name 'engine_train' is not defined",
     "output_type": "error",
     "traceback": [
      "\u001b[1;31m---------------------------------------------------------------------------\u001b[0m",
      "\u001b[1;31mNameError\u001b[0m                                 Traceback (most recent call last)",
      "\u001b[1;32m<ipython-input-2-3890d40235c4>\u001b[0m in \u001b[0;36m<module>\u001b[1;34m()\u001b[0m\n\u001b[0;32m      1\u001b[0m \u001b[0md\u001b[0m \u001b[1;33m=\u001b[0m \u001b[1;33m[\u001b[0m\u001b[1;33m]\u001b[0m\u001b[1;33m\u001b[0m\u001b[0m\n\u001b[0;32m      2\u001b[0m \u001b[1;33m\u001b[0m\u001b[0m\n\u001b[1;32m----> 3\u001b[1;33m \u001b[1;32mfor\u001b[0m \u001b[0mindex\u001b[0m\u001b[1;33m,\u001b[0m \u001b[0mrow\u001b[0m \u001b[1;32min\u001b[0m \u001b[0mengine_train\u001b[0m\u001b[1;33m.\u001b[0m\u001b[0miterrows\u001b[0m\u001b[1;33m(\u001b[0m\u001b[1;33m)\u001b[0m\u001b[1;33m:\u001b[0m\u001b[1;33m\u001b[0m\u001b[0m\n\u001b[0m\u001b[0;32m      4\u001b[0m      \u001b[0md\u001b[0m\u001b[1;33m.\u001b[0m\u001b[0mappend\u001b[0m\u001b[1;33m(\u001b[0m\u001b[0mrow\u001b[0m\u001b[1;33m.\u001b[0m\u001b[0my_pred\u001b[0m \u001b[1;33m-\u001b[0m \u001b[0mrow\u001b[0m\u001b[1;33m.\u001b[0m\u001b[0mcycle_num\u001b[0m\u001b[1;33m)\u001b[0m\u001b[1;33m\u001b[0m\u001b[0m\n\u001b[0;32m      5\u001b[0m \u001b[1;33m\u001b[0m\u001b[0m\n",
      "\u001b[1;31mNameError\u001b[0m: name 'engine_train' is not defined"
     ]
    }
   ],
   "source": [
    "d = []\n",
    "\n",
    "for index, row in engine_train.iterrows():\n",
    "     d.append(row.y_pred - row.cycle_num)\n",
    "        \n",
    "engine_train['d'] = d\n",
    "\n",
    "engine_train['d'].head()"
   ]
  },
  {
   "cell_type": "code",
   "execution_count": 1,
   "metadata": {},
   "outputs": [],
   "source": [
    "def metrica(d):\n",
    "    \n",
    "    aux = 0\n",
    "    for i in d:\n",
    "        \n",
    "        if (i < 0):\n",
    "            aux = aux + (np.exp((-(i/13)))-1)           \n",
    "        else:\n",
    "            aux = aux + (np.exp(((i/10)))-1)\n",
    "#         print aux\n",
    "    return aux  "
   ]
  },
  {
   "cell_type": "markdown",
   "metadata": {},
   "source": [
    "# Resultado Final"
   ]
  },
  {
   "cell_type": "code",
   "execution_count": 75,
   "metadata": {},
   "outputs": [
    {
     "name": "stdout",
     "output_type": "stream",
     "text": [
      "O resultado final para o set de treino foi de 598392.726332 pontos.\n"
     ]
    }
   ],
   "source": [
    "result = metrica(engine_train['d'])\n",
    "\n",
    "print ('O resultado final para o set de treino foi de {} pontos.'.format(result))"
   ]
  },
  {
   "cell_type": "markdown",
   "metadata": {},
   "source": [
    "# Aplicando o filtro Kalman"
   ]
  },
  {
   "cell_type": "code",
   "execution_count": null,
   "metadata": {},
   "outputs": [],
   "source": [
    "#https://github.com/rlabbe/Kalman-and-Bayesian-Filters-in-Python/blob/master/Appendix-E-Ensemble-Kalman-Filters.ipynb"
   ]
  },
  {
   "cell_type": "markdown",
   "metadata": {},
   "source": [
    "O Filtro Kalman é utilizado para filtrar os sinais dos sensores e reduzir os ruídos dos sensores. Espera-se uma melhora nos resultados."
   ]
  },
  {
   "cell_type": "code",
   "execution_count": null,
   "metadata": {},
   "outputs": [],
   "source": [
    "x = train_final_data['sensor2']"
   ]
  },
  {
   "cell_type": "code",
   "execution_count": null,
   "metadata": {},
   "outputs": [],
   "source": []
  },
  {
   "cell_type": "code",
   "execution_count": null,
   "metadata": {},
   "outputs": [],
   "source": []
  },
  {
   "cell_type": "code",
   "execution_count": null,
   "metadata": {},
   "outputs": [],
   "source": []
  },
  {
   "cell_type": "code",
   "execution_count": null,
   "metadata": {},
   "outputs": [],
   "source": []
  },
  {
   "cell_type": "code",
   "execution_count": null,
   "metadata": {},
   "outputs": [],
   "source": []
  },
  {
   "cell_type": "markdown",
   "metadata": {},
   "source": [
    "# Teste com o set de testes"
   ]
  },
  {
   "cell_type": "code",
   "execution_count": 1,
   "metadata": {},
   "outputs": [
    {
     "ename": "NameError",
     "evalue": "name 'train_test_split' is not defined",
     "output_type": "error",
     "traceback": [
      "\u001b[1;31m---------------------------------------------------------------------------\u001b[0m",
      "\u001b[1;31mNameError\u001b[0m                                 Traceback (most recent call last)",
      "\u001b[1;32m<ipython-input-1-20b6f99c65d8>\u001b[0m in \u001b[0;36m<module>\u001b[1;34m()\u001b[0m\n\u001b[1;32m----> 1\u001b[1;33m X_train, X_test, y_train, y_test = train_test_split(test_final_data, target_final_data_test_scaled, \n\u001b[0m\u001b[0;32m      2\u001b[0m                                                     train_size=0 , random_state = 1)\n",
      "\u001b[1;31mNameError\u001b[0m: name 'train_test_split' is not defined"
     ]
    }
   ],
   "source": [
    "X_train, X_test, y_train, y_test = train_test_split(test_final_data, target_final_data_test_scaled, \n",
    "                                                    train_size=0 , random_state = 1)"
   ]
  },
  {
   "cell_type": "code",
   "execution_count": null,
   "metadata": {},
   "outputs": [],
   "source": [
    "# load the model from disk\n",
    "# loaded_model = pickle.load(open(filename, 'rb'))\n",
    "# result = loaded_model.score(X_test, y_test)\n",
    "# y_pred = loaded_model.predict(X_test)\n",
    "\n",
    "from xgboost import XGBRegressor as xgb        \n",
    "\n",
    "model = xgb(n_estimators = 200,learning_rate = 0.4,colsample_bytree = 0.7,max_depth = 5)\n",
    "\n",
    "model.fit(X_train, y_train)\n",
    "y_pred = model.predict(X_test)\n",
    "\n",
    "X_test_df = pd.DataFrame(X_test)\n",
    "y_pred_final = pd.DataFrame(y_pred * target_final_data_test.max(), columns = ['y_pred'], index = X_test.index)\n",
    "\n",
    "print(result)"
   ]
  },
  {
   "cell_type": "code",
   "execution_count": null,
   "metadata": {},
   "outputs": [],
   "source": [
    "data_colunas = [y_pred_final,X_test_df]\n",
    "# target_final_data_test\n",
    "\n",
    "engine_test = pd.concat(data_colunas, axis = 1, ignore_index=False,verify_integrity=True)\n",
    "\n",
    "engine_test = engine_test.dropna(axis = 0, how = 'any')\n",
    "\n",
    "engine_test.head()"
   ]
  },
  {
   "cell_type": "code",
   "execution_count": null,
   "metadata": {},
   "outputs": [],
   "source": [
    "d = []\n",
    "\n",
    "for index, row in engine_test.iterrows():\n",
    "     d.append(row.y_pred - row.cycle_num)\n",
    "        \n",
    "engine_test['d'] = d\n",
    "\n",
    "engine_test['d'].head()"
   ]
  },
  {
   "cell_type": "code",
   "execution_count": null,
   "metadata": {},
   "outputs": [],
   "source": [
    "result = metrica(engine_test['d'])\n",
    "\n",
    "print ('O resultado final para o set de treino foi de {} pontos.'.format(result))"
   ]
  },
  {
   "cell_type": "code",
   "execution_count": null,
   "metadata": {
    "collapsed": true
   },
   "outputs": [],
   "source": [
    "y_pred_final.head()"
   ]
  },
  {
   "cell_type": "markdown",
   "metadata": {},
   "source": [
    "# Análise final com o dataset 'final_test'"
   ]
  },
  {
   "cell_type": "code",
   "execution_count": null,
   "metadata": {},
   "outputs": [],
   "source": [
    "X_train, X_test, y_train, y_test = train_test_split(finaltest_final_data, target_final_data_finaltest_scaled, \n",
    "                                                    train_size=0 , random_state = 1)"
   ]
  },
  {
   "cell_type": "code",
   "execution_count": null,
   "metadata": {},
   "outputs": [],
   "source": [
    "# load the model from disk\n",
    "loaded_model = pickle.load(open(filename, 'rb'))\n",
    "result = loaded_model.score(X_test, y_test)\n",
    "\n",
    "y_pred = loaded_model.predict(X_test)\n",
    "\n",
    "X_test_df = pd.DataFrame(X_test)\n",
    "y_pred_final = pd.DataFrame(y_pred * target_final_data_finaltest.max(), columns = ['y_pred'], index = X_test.index)\n",
    "\n",
    "print(result)"
   ]
  },
  {
   "cell_type": "code",
   "execution_count": null,
   "metadata": {},
   "outputs": [],
   "source": [
    "data_colunas = [y_pred_final,X_test_df]\n",
    "# target_final_data_test\n",
    "\n",
    "engine_finaltest = pd.concat(data_colunas, axis = 1, ignore_index=False,verify_integrity=True)\n",
    "\n",
    "engine_finaltest = engine_finaltest.dropna(axis = 0, how = 'any')\n",
    "\n",
    "engine_finaltest.head()"
   ]
  },
  {
   "cell_type": "code",
   "execution_count": null,
   "metadata": {},
   "outputs": [],
   "source": [
    "d = []\n",
    "\n",
    "for index, row in engine_finaltest.iterrows():\n",
    "     d.append(row.y_pred - row.cycle_num)\n",
    "        \n",
    "engine_finaltest['d'] = d\n",
    "\n",
    "engine_finaltest['d'].head()"
   ]
  },
  {
   "cell_type": "code",
   "execution_count": null,
   "metadata": {},
   "outputs": [],
   "source": [
    "result = metrica(engine_finaltest['d'])\n",
    "\n",
    "print ('O resultado final para o set de treino foi de {} pontos.'.format(result))"
   ]
  },
  {
   "cell_type": "code",
   "execution_count": null,
   "metadata": {},
   "outputs": [],
   "source": [
    "X_test_df = pd.DataFrame(X_test)\n",
    "y_pred_final = pd.DataFrame(y_pred * target_final_data_finaltest.max(), columns = ['y_pred'], index = X_test.index)\n",
    "d = []\n",
    "\n",
    "data_colunas = [y_pred_final,X_test_df]\n",
    "# target_final_data_test\n",
    "\n",
    "engine_finaltest = pd.concat(data_colunas, axis = 1, ignore_index=False,verify_integrity=True)\n",
    "\n",
    "engine_finaltest = engine_finaltest.dropna(axis = 0, how = 'any')\n",
    "\n",
    "for index, row in engine_finaltest.iterrows():\n",
    "     d.append(row.y_pred - row.cycle_num)\n",
    "        \n",
    "engine_finaltest['d'] = d\n",
    "\n",
    "engine_finaltest['d'].head()"
   ]
  }
 ],
 "metadata": {
  "kernelspec": {
   "display_name": "Python 2",
   "language": "python",
   "name": "python2"
  },
  "language_info": {
   "codemirror_mode": {
    "name": "ipython",
    "version": 2
   },
   "file_extension": ".py",
   "mimetype": "text/x-python",
   "name": "python",
   "nbconvert_exporter": "python",
   "pygments_lexer": "ipython2",
   "version": "2.7.13"
  }
 },
 "nbformat": 4,
 "nbformat_minor": 2
}
